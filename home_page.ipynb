{
 "cells": [
  {
   "cell_type": "markdown",
   "id": "930232a9",
   "metadata": {},
   "source": [
    "\n",
    "# Welcome to the Research Coding Community (RCC) Website\n",
    "\n",
    "Welcome to the **Research Coding Community (RCC)**, the central hub for clubs, courses, and resources that help researchers learn and share coding skills.\n",
    "\n",
    "- 📣 Visit **Community** to find a local club, join discussions, and see how to get involved.  \n",
    "- 🧑🏽‍🏫 Explore **Resources** to find hands-on notebooks, quizzes, guides, templates, recommended tools, and more.  \n",
    "- 📅 Check the **Events** calendar for upcoming club meetings and training.  \n",
    "- 🤝 Learn how to **start or support** an RCC club in your community.  \n",
    "\n",
    "---\n",
    "\n",
    "## Join the RCC\n",
    "\n",
    "If you’d like to join the broader RCC, **sign up below**.\n",
    "\n",
    "> **Note:** If the form below does not load, please [click here to open the Microsoft Form directly](https://forms.office.com/Pages/ResponsePage.aspx?id=d10qkZj77k6vMhM02PBKUxlnTHZh2bpEjkZio2e-JAdUNFJHMDBEVUVCV1VXNlk1U09OQ0VVNFhOMiQlQCN0PWcu) to complete it.  \n",
    "> Not every web browser will display embedded forms correctly.\n",
    "\n",
    "<iframe width=\"100%\" height=\"1000px\" title=\"Research Coding Community (RCC) Signup Form\" src=\"https://forms.cloud.microsoft/Pages/ResponsePage.aspx?id=d10qkZj77k6vMhM02PBKU-oxqLMQ8w1AowxZDWbXZRhUNFJHMDBEVUVCV1VXNlk1U09OQ0VVNFhOMi4u&embed=true\" frameborder=\"0\" marginwidth=\"0\" marginheight=\"0\" style=\"border: none; max-width:100%; max-height:100vh\" allowfullscreen webkitallowfullscreen mozallowfullscreen msallowfullscreen> </iframe>\n",
    "\n",
    "Alongside the sign-up dont forget to add your name to our members list and practice your GitHub skills! An indepth guide can be found at the [members.ipynb]\n",
    "\n"
   ]
  }
 ],
 "metadata": {
  "language_info": {
   "name": "python"
  }
 },
 "nbformat": 4,
 "nbformat_minor": 5
}
