{
 "cells": [
  {
   "cell_type": "markdown",
   "id": "930232a9",
   "metadata": {},
   "source": [
    "# Welcome to the Research Coding Community\n",
    "\n",
    "The Research Coding Community (RCC) brings together clubs, courses, and open resources so researchers can build reproducible, shareable code. This site is your jumping-off point for exploring, joining an event, and adding your own contributions.\n",
    "\n",
    "---\n",
    "\n",
    "## What you'll find here\n",
    "\n",
    "- **Calendar** – See upcoming workshops and club meetings on the [Events calendar](logistics/calendar).\n",
    "- **Clubs & communities** – Get to know groups like [Coding for Reproducible Research](clubs/cfrr) and discover how to start your own.\n",
    "- **Learning resources** – Dive into hands-on notebooks, quizzes, and guides in the [Resources library](resources/example_resource/README).\n",
    "- **Members & collaborators** – Meet contributors in the [Members directory](members/directory) and add yourself by following the [Members directory guide](members/directory_guide).\n",
    "\n",
    "---\n",
    "\n",
    "## Get started in three steps\n",
    "\n",
    "1. **Find your path** – Decide whether you want to join a club, learn independently, or contribute content.\n",
    "2. **Pick a resource** – Follow a curated pathway, RSVP to the next event, or browse example projects for inspiration.\n",
    "3. **Share your progress** – Open a pull request to add your story, resources, or improvements for the next visitor.\n",
    "\n",
    "> Pro tip: New to GitHub? Start by following the [Members directory guide](members/directory_guide), you'll practice forking, branching, and opening a PR in a safe, welcoming space.\n",
    "\n",
    "---\n",
    "\n",
    "## Join the RCC\n",
    "\n",
    "If you’d like to join the wider network on Microsoft Teams and get emails then please sign up below.\n",
    "\n",
    "> **Note:** If the form does not load, [open the Microsoft Form directly](https://forms.office.com/Pages/ResponsePage.aspx?id=d10qkZj77k6vMhM02PBKUxlnTHZh2bpEjkZio2e-JAdUNFJHMDBEVUVCV1VXNlk1U09OQ0VVNFhOMiQlQCN0PWcu). Some browsers block embedded forms by default.\n",
    "\n",
    "<iframe width=\"100%\" height=\"1000px\" title=\"Research Coding Community (RCC) Signup Form\" src=\"https://forms.cloud.microsoft/Pages/ResponsePage.aspx?id=d10qkZj77k6vMhM02PBKU-oxqLMQ8w1AowxZDWbXZRhUNFJHMDBEVUVCV1VXNlk1U09OQ0VVNFhOMi4u&embed=true\" frameborder=\"0\" marginwidth=\"0\" marginheight=\"0\" style=\"border: none; max-width:100%; max-height:100vh\" allowfullscreen webkitallowfullscreen mozallowfullscreen msallowfullscreen></iframe>\n",
    "\n",
    "Ready to contribute right now? Check out the [Members directory guide](members/directory_guide) for a quick tutorial on opening your first pull request.\n"
   ]
  },
  {
   "cell_type": "markdown",
   "id": "3f0f76b6",
   "metadata": {},
   "source": []
  }
 ],
 "metadata": {
  "language_info": {
   "name": "python"
  }
 },
 "nbformat": 4,
 "nbformat_minor": 5
}
