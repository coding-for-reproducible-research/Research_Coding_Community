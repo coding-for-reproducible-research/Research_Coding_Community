{
 "cells": [
  {
   "cell_type": "markdown",
   "id": "97f19bf6",
   "metadata": {},
   "source": [
    "# Members\n",
    "\n",
    "## Using GitHub To Add Yourself To The List\n",
    "\n",
    "## Member List"
   ]
  }
 ],
 "metadata": {
  "language_info": {
   "name": "python"
  }
 },
 "nbformat": 4,
 "nbformat_minor": 5
}
